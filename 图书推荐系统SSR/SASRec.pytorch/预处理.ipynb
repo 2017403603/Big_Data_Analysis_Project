{
 "cells": [
  {
   "cell_type": "code",
   "execution_count": 1,
   "metadata": {},
   "outputs": [
    {
     "data": {
      "text/plain": [
       "'\\n大概是这样的，这个代码要求用户和项目id从1开始，所以我前几行就做了这个操作\\n然后需要把我们的csv数据变成txt，或者你自己改一下他的源代码\\nclass args类之后的所有代码是在生成提交文件\\n'"
      ]
     },
     "execution_count": 1,
     "metadata": {},
     "output_type": "execute_result"
    }
   ],
   "source": [
    "import os\n",
    "import time\n",
    "import torch\n",
    "import argparse\n",
    "\n",
    "from model import SASRec\n",
    "from utils import *\n",
    "import csv\n",
    "import pandas as pd\n",
    "from tqdm import tqdm\n",
    "'''\n",
    "大概是这样的，这个代码要求用户和项目id从1开始，所以我前几行就做了这个操作\n",
    "然后需要把我们的csv数据变成txt，或者你自己改一下他的源代码\n",
    "class args类之后的所有代码是在生成提交文件\n",
    "'''"
   ]
  },
  {
   "cell_type": "code",
   "execution_count": 2,
   "metadata": {},
   "outputs": [
    {
     "data": {
      "text/html": [
       "<div>\n",
       "<style scoped>\n",
       "    .dataframe tbody tr th:only-of-type {\n",
       "        vertical-align: middle;\n",
       "    }\n",
       "\n",
       "    .dataframe tbody tr th {\n",
       "        vertical-align: top;\n",
       "    }\n",
       "\n",
       "    .dataframe thead th {\n",
       "        text-align: right;\n",
       "    }\n",
       "</style>\n",
       "<table border=\"1\" class=\"dataframe\">\n",
       "  <thead>\n",
       "    <tr style=\"text-align: right;\">\n",
       "      <th></th>\n",
       "      <th>user_id</th>\n",
       "      <th>item_id</th>\n",
       "    </tr>\n",
       "  </thead>\n",
       "  <tbody>\n",
       "    <tr>\n",
       "      <th>0</th>\n",
       "      <td>0</td>\n",
       "      <td>257</td>\n",
       "    </tr>\n",
       "    <tr>\n",
       "      <th>1</th>\n",
       "      <td>0</td>\n",
       "      <td>267</td>\n",
       "    </tr>\n",
       "    <tr>\n",
       "      <th>2</th>\n",
       "      <td>0</td>\n",
       "      <td>5555</td>\n",
       "    </tr>\n",
       "    <tr>\n",
       "      <th>3</th>\n",
       "      <td>0</td>\n",
       "      <td>3637</td>\n",
       "    </tr>\n",
       "    <tr>\n",
       "      <th>4</th>\n",
       "      <td>0</td>\n",
       "      <td>1795</td>\n",
       "    </tr>\n",
       "    <tr>\n",
       "      <th>...</th>\n",
       "      <td>...</td>\n",
       "      <td>...</td>\n",
       "    </tr>\n",
       "    <tr>\n",
       "      <th>5869626</th>\n",
       "      <td>49801</td>\n",
       "      <td>4655</td>\n",
       "    </tr>\n",
       "    <tr>\n",
       "      <th>5869627</th>\n",
       "      <td>49801</td>\n",
       "      <td>5091</td>\n",
       "    </tr>\n",
       "    <tr>\n",
       "      <th>5869628</th>\n",
       "      <td>49801</td>\n",
       "      <td>5294</td>\n",
       "    </tr>\n",
       "    <tr>\n",
       "      <th>5869629</th>\n",
       "      <td>49801</td>\n",
       "      <td>5608</td>\n",
       "    </tr>\n",
       "    <tr>\n",
       "      <th>5869630</th>\n",
       "      <td>49801</td>\n",
       "      <td>5683</td>\n",
       "    </tr>\n",
       "  </tbody>\n",
       "</table>\n",
       "<p>5869631 rows × 2 columns</p>\n",
       "</div>"
      ],
      "text/plain": [
       "         user_id  item_id\n",
       "0              0      257\n",
       "1              0      267\n",
       "2              0     5555\n",
       "3              0     3637\n",
       "4              0     1795\n",
       "...          ...      ...\n",
       "5869626    49801     4655\n",
       "5869627    49801     5091\n",
       "5869628    49801     5294\n",
       "5869629    49801     5608\n",
       "5869630    49801     5683\n",
       "\n",
       "[5869631 rows x 2 columns]"
      ]
     },
     "execution_count": 2,
     "metadata": {},
     "output_type": "execute_result"
    }
   ],
   "source": [
    "df = pd.read_csv('data/train_dataset.csv')\n",
    "df"
   ]
  },
  {
   "cell_type": "code",
   "execution_count": 2,
   "metadata": {},
   "outputs": [],
   "source": [
    "data  = pd.read_csv('./data/ml-1m.txt', header=None)"
   ]
  },
  {
   "cell_type": "code",
   "execution_count": 3,
   "metadata": {},
   "outputs": [
    {
     "name": "stdout",
     "output_type": "stream",
     "text": [
      "             0     1\n",
      "0            0   257\n",
      "1            0   267\n",
      "2            0  5555\n",
      "3            0  3637\n",
      "4            0  1795\n",
      "...        ...   ...\n",
      "5869626  49801  4655\n",
      "5869627  49801  5091\n",
      "5869628  49801  5294\n",
      "5869629  49801  5608\n",
      "5869630  49801  5683\n",
      "\n",
      "[5869631 rows x 2 columns]\n"
     ]
    }
   ],
   "source": [
    "print(data)"
   ]
  },
  {
   "cell_type": "code",
   "execution_count": 4,
   "metadata": {},
   "outputs": [],
   "source": [
    "data[0] = data[0] + 1"
   ]
  },
  {
   "cell_type": "code",
   "execution_count": 5,
   "metadata": {},
   "outputs": [
    {
     "name": "stdout",
     "output_type": "stream",
     "text": [
      "             0     1\n",
      "0            1   257\n",
      "1            1   267\n",
      "2            1  5555\n",
      "3            1  3637\n",
      "4            1  1795\n",
      "...        ...   ...\n",
      "5869626  49802  4655\n",
      "5869627  49802  5091\n",
      "5869628  49802  5294\n",
      "5869629  49802  5608\n",
      "5869630  49802  5683\n",
      "\n",
      "[5869631 rows x 2 columns]\n"
     ]
    }
   ],
   "source": [
    "print(data)"
   ]
  },
  {
   "cell_type": "code",
   "execution_count": 6,
   "metadata": {},
   "outputs": [],
   "source": [
    "data[1] = data[1] + 1"
   ]
  },
  {
   "cell_type": "code",
   "execution_count": 7,
   "metadata": {},
   "outputs": [
    {
     "name": "stdout",
     "output_type": "stream",
     "text": [
      "             0     1\n",
      "0            1   258\n",
      "1            1   268\n",
      "2            1  5556\n",
      "3            1  3638\n",
      "4            1  1796\n",
      "...        ...   ...\n",
      "5869626  49802  4656\n",
      "5869627  49802  5092\n",
      "5869628  49802  5295\n",
      "5869629  49802  5609\n",
      "5869630  49802  5684\n",
      "\n",
      "[5869631 rows x 2 columns]\n"
     ]
    }
   ],
   "source": [
    "print(data)"
   ]
  },
  {
   "cell_type": "code",
   "execution_count": 8,
   "metadata": {},
   "outputs": [],
   "source": [
    "data.to_csv('./data/ml-1m.txt', index=0, header=0)"
   ]
  },
  {
   "cell_type": "code",
   "execution_count": 9,
   "metadata": {},
   "outputs": [],
   "source": [
    "class args():\n",
    "    def __init__(self):\n",
    "        self.dataset = 'ml-1m'\n",
    "        self.batch_size = 128\n",
    "        self.lr = 0.001\n",
    "        self.maxlen = 200\n",
    "        self.hidden_units = 50\n",
    "        self.num_blocks = 2\n",
    "        self.num_epochs = 60\n",
    "        self.num_heads  = 1\n",
    "        self.dropout_rate = 0.3\n",
    "        self.l2_emb = 0.0\n",
    "        self.inference_only = False\n",
    "        self.state_dict_path = None\n",
    "        self.device = 'cpu'"
   ]
  },
  {
   "cell_type": "code",
   "execution_count": 10,
   "metadata": {},
   "outputs": [],
   "source": [
    "args = args()"
   ]
  },
  {
   "cell_type": "code",
   "execution_count": 11,
   "metadata": {},
   "outputs": [],
   "source": [
    "model = SASRec(53424, 10000, args)"
   ]
  },
  {
   "cell_type": "code",
   "execution_count": 12,
   "metadata": {},
   "outputs": [
    {
     "data": {
      "text/plain": [
       "<All keys matched successfully>"
      ]
     },
     "execution_count": 12,
     "metadata": {},
     "output_type": "execute_result"
    }
   ],
   "source": [
    "model.load_state_dict(torch.load('./ml-1m_default/SASRec.epoch=60.lr=0.001.layer=2.head=1.hidden=50.maxlen=200.pth', map_location=torch.device(args.device)))"
   ]
  },
  {
   "cell_type": "code",
   "execution_count": 13,
   "metadata": {},
   "outputs": [
    {
     "data": {
      "text/plain": [
       "SASRec(\n",
       "  (item_emb): Embedding(10001, 50, padding_idx=0)\n",
       "  (pos_emb): Embedding(200, 50)\n",
       "  (emb_dropout): Dropout(p=0.3, inplace=False)\n",
       "  (attention_layernorms): ModuleList(\n",
       "    (0): LayerNorm((50,), eps=1e-08, elementwise_affine=True)\n",
       "    (1): LayerNorm((50,), eps=1e-08, elementwise_affine=True)\n",
       "  )\n",
       "  (attention_layers): ModuleList(\n",
       "    (0): MultiheadAttention(\n",
       "      (out_proj): NonDynamicallyQuantizableLinear(in_features=50, out_features=50, bias=True)\n",
       "    )\n",
       "    (1): MultiheadAttention(\n",
       "      (out_proj): NonDynamicallyQuantizableLinear(in_features=50, out_features=50, bias=True)\n",
       "    )\n",
       "  )\n",
       "  (forward_layernorms): ModuleList(\n",
       "    (0): LayerNorm((50,), eps=1e-08, elementwise_affine=True)\n",
       "    (1): LayerNorm((50,), eps=1e-08, elementwise_affine=True)\n",
       "  )\n",
       "  (forward_layers): ModuleList(\n",
       "    (0): PointWiseFeedForward(\n",
       "      (conv1): Conv1d(50, 50, kernel_size=(1,), stride=(1,))\n",
       "      (dropout1): Dropout(p=0.3, inplace=False)\n",
       "      (relu): ReLU()\n",
       "      (conv2): Conv1d(50, 50, kernel_size=(1,), stride=(1,))\n",
       "      (dropout2): Dropout(p=0.3, inplace=False)\n",
       "    )\n",
       "    (1): PointWiseFeedForward(\n",
       "      (conv1): Conv1d(50, 50, kernel_size=(1,), stride=(1,))\n",
       "      (dropout1): Dropout(p=0.3, inplace=False)\n",
       "      (relu): ReLU()\n",
       "      (conv2): Conv1d(50, 50, kernel_size=(1,), stride=(1,))\n",
       "      (dropout2): Dropout(p=0.3, inplace=False)\n",
       "    )\n",
       "  )\n",
       "  (last_layernorm): LayerNorm((50,), eps=1e-08, elementwise_affine=True)\n",
       ")"
      ]
     },
     "execution_count": 13,
     "metadata": {},
     "output_type": "execute_result"
    }
   ],
   "source": [
    "model.eval()"
   ]
  },
  {
   "cell_type": "code",
   "execution_count": 14,
   "metadata": {},
   "outputs": [],
   "source": [
    "usernum = 0\n",
    "itemnum = 0\n",
    "User = defaultdict(list)\n",
    "user_train = {}\n",
    "user_valid = {}\n",
    "user_test = {}\n",
    "# assume user/item index starting from 1\n",
    "f = open('data/%s.txt' % 'ml-1m', 'r')\n",
    "for line in f:\n",
    "    u, i = line.rstrip().split(',')\n",
    "    u = int(u)\n",
    "    i = int(i)\n",
    "    usernum = max(u, usernum)\n",
    "    itemnum = max(i, itemnum)\n",
    "    User[u].append(i)"
   ]
  },
  {
   "cell_type": "code",
   "execution_count": 15,
   "metadata": {
    "scrolled": true
   },
   "outputs": [
    {
     "name": "stderr",
     "output_type": "stream",
     "text": [
      "100%|██████████████████████████████████████████████████████████████████████████| 53424/53424 [00:46<00:00, 1144.53it/s]\n"
     ]
    }
   ],
   "source": [
    "user_test = defaultdict(list)\n",
    "for i in tqdm(range(1, usernum+1)):\n",
    "    j = list(range(1, itemnum+1))\n",
    "    user_test[i].append(list(set(j).difference(User[i])))\n",
    "    user_test[i] = user_test[i][0]"
   ]
  },
  {
   "cell_type": "code",
   "execution_count": null,
   "metadata": {},
   "outputs": [
    {
     "name": "stderr",
     "output_type": "stream",
     "text": [
      "  0%|                                                                                        | 0/53424 [00:00<?, ?it/s]<ipython-input-16-cce695dcabd8>:19: DeprecationWarning: `np.int` is a deprecated alias for the builtin `int`. To silence this warning, use `int` by itself. Doing this will not modify any behavior and is safe. When replacing `np.int`, you may wish to use e.g. `np.int64` or `np.int32` to specify the precision. If you wish to review your current use, check the release note link for additional information.\n",
      "Deprecated in NumPy 1.20; for more details and guidance: https://numpy.org/devdocs/release/1.20.0-notes.html#deprecations\n",
      "  u = np.full(shape=10, fill_value=i, dtype=np.int)\n",
      "  2%|█▎                                                                           | 889/53424 [00:09<07:56, 110.20it/s]"
     ]
    }
   ],
   "source": [
    "with open('./sub_f.csv', 'ab') as f:\n",
    "    maxlen_te = max(len(user_test[i]) for i in range(1, usernum+1))\n",
    "    maxlen_tr = max(len(User[i]) for i in range(1, usernum+1))\n",
    "    for i in tqdm(range(1, usernum+1)):\n",
    "        seq = np.zeros([maxlen_tr], dtype=np.int32)\n",
    "        idx = maxlen_tr - 1\n",
    "        for j in reversed(User[i]):\n",
    "            seq[idx] = j\n",
    "            idx -= 1\n",
    "            if idx == -1: break\n",
    "        item_idx = user_test[i]\n",
    "        p = [np.array(l) for l in [[i], [seq], item_idx]]\n",
    "        predictions = -model.predict(*p)\n",
    "        predictions = predictions[0]\n",
    "        a = predictions.argsort()[:10]\n",
    "        a = a.numpy()\n",
    "        r = np.array(item_idx)\n",
    "        s = r[a]\n",
    "        u = np.full(shape=10, fill_value=i, dtype=np.int)\n",
    "        pre = np.c_[u-1,s-1]\n",
    "        np.savetxt(f, pre, delimiter=',', fmt='%i')\n",
    "df = pd.read_csv('./sub_f.csv',header=None,names=['user_id', 'item_id'])\n",
    "df.to_csv('./submission_1.csv',index=False)"
   ]
  },
  {
   "cell_type": "code",
   "execution_count": null,
   "metadata": {},
   "outputs": [],
   "source": []
  }
 ],
 "metadata": {
  "kernelspec": {
   "display_name": "Python 3",
   "language": "python",
   "name": "python3"
  },
  "language_info": {
   "codemirror_mode": {
    "name": "ipython",
    "version": 3
   },
   "file_extension": ".py",
   "mimetype": "text/x-python",
   "name": "python",
   "nbconvert_exporter": "python",
   "pygments_lexer": "ipython3",
   "version": "3.8.8"
  }
 },
 "nbformat": 4,
 "nbformat_minor": 4
}